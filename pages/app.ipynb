{
 "cells": [
  {
   "cell_type": "code",
   "execution_count": 11,
   "id": "3929d3fa",
   "metadata": {},
   "outputs": [],
   "source": [
    "import sys\n",
    "import os\n",
    "\n",
    "# Get the absolute path of the directory containing the project\n",
    "# This assumes utils.py is in the root directory\n",
    "path = \"c:\\\\Users\\\\ahmad\\\\Desktop\\\\GPT-5-Hackathon\\\\gpt-5-hackathon\\\\utils.py\"\n",
    "project_root = os.path.dirname(os.path.abspath(path))\n",
    "sys.path.insert(0, project_root)\n",
    "\n",
    "# Now you can import utils.py from any page\n",
    "from utils import function"
   ]
  },
  {
   "cell_type": "code",
   "execution_count": 1,
   "id": "0b457220",
   "metadata": {},
   "outputs": [],
   "source": [
    "a = \"abc {0}\""
   ]
  },
  {
   "cell_type": "code",
   "execution_count": 3,
   "id": "a120768a",
   "metadata": {},
   "outputs": [
    {
     "data": {
      "text/plain": [
       "'abc 1'"
      ]
     },
     "execution_count": 3,
     "metadata": {},
     "output_type": "execute_result"
    }
   ],
   "source": [
    "a.format(1)"
   ]
  },
  {
   "cell_type": "code",
   "execution_count": null,
   "id": "75ea4af7",
   "metadata": {},
   "outputs": [],
   "source": []
  }
 ],
 "metadata": {
  "kernelspec": {
   "display_name": "gpt-5-hackathon",
   "language": "python",
   "name": "python3"
  },
  "language_info": {
   "codemirror_mode": {
    "name": "ipython",
    "version": 3
   },
   "file_extension": ".py",
   "mimetype": "text/x-python",
   "name": "python",
   "nbconvert_exporter": "python",
   "pygments_lexer": "ipython3",
   "version": "3.11.13"
  }
 },
 "nbformat": 4,
 "nbformat_minor": 5
}
